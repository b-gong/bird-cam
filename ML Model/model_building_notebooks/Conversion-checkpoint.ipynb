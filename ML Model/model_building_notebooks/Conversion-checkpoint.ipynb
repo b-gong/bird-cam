{
 "cells": [
  {
   "cell_type": "code",
   "execution_count": 1,
   "id": "cb0a1696-ca35-4444-b488-5361da099c2d",
   "metadata": {},
   "outputs": [],
   "source": [
    "import tensorflow as tf\n",
    "from tensorflow.keras.models import load_model\n",
    "\n",
    "# Load the model from the current directory\n",
    "model = load_model('bird_mobile_model.h5')"
   ]
  },
  {
   "cell_type": "code",
   "execution_count": 2,
   "id": "9c8632f9-af1a-4f5f-bbb6-3a8a5607c94c",
   "metadata": {},
   "outputs": [],
   "source": [
    "converter = tf.lite.TFLiteConverter.from_keras_model(model)\n",
    "converter.optimizations = [tf.lite.Optimize.DEFAULT]"
   ]
  },
  {
   "cell_type": "code",
   "execution_count": null,
   "id": "a7a499af-7d3f-4828-ad67-f4ff6c342cae",
   "metadata": {},
   "outputs": [],
   "source": [
    "tflite_model = converter.convert()"
   ]
  },
  {
   "cell_type": "code",
   "execution_count": null,
   "id": "eb9b2688-8841-48b5-8e51-df9d8f5fc642",
   "metadata": {},
   "outputs": [],
   "source": [
    "with open('birdMobileLite.tflite', 'wb') as f:\n",
    "  f.write(tflite_model)"
   ]
  }
 ],
 "metadata": {
  "kernelspec": {
   "display_name": "Python 3 (ipykernel)",
   "language": "python",
   "name": "python3"
  },
  "language_info": {
   "codemirror_mode": {
    "name": "ipython",
    "version": 3
   },
   "file_extension": ".py",
   "mimetype": "text/x-python",
   "name": "python",
   "nbconvert_exporter": "python",
   "pygments_lexer": "ipython3",
   "version": "3.9.18"
  }
 },
 "nbformat": 4,
 "nbformat_minor": 5
}
